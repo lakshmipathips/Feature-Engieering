{
 "cells": [
  {
   "cell_type": "code",
   "execution_count": 1,
   "metadata": {},
   "outputs": [],
   "source": [
    "import pandas as pd\n",
    "import numpy as np\n",
    "import os\n",
    "import matplotlib.pyplot as plt\n",
    "import seaborn as sns\n",
    "sns.set()"
   ]
  },
  {
   "cell_type": "code",
   "execution_count": 2,
   "metadata": {},
   "outputs": [
    {
     "data": {
      "text/plain": [
       "'D:\\\\Jigsaw\\\\Classroom content\\\\MLAI\\\\Feature engg - structured data'"
      ]
     },
     "execution_count": 2,
     "metadata": {},
     "output_type": "execute_result"
    }
   ],
   "source": [
    "os.getcwd()"
   ]
  },
  {
   "cell_type": "code",
   "execution_count": 3,
   "metadata": {},
   "outputs": [],
   "source": [
    "dm = pd.read_csv(\"dm.csv\")"
   ]
  },
  {
   "cell_type": "code",
   "execution_count": 4,
   "metadata": {},
   "outputs": [
    {
     "data": {
      "text/html": [
       "<div>\n",
       "<style scoped>\n",
       "    .dataframe tbody tr th:only-of-type {\n",
       "        vertical-align: middle;\n",
       "    }\n",
       "\n",
       "    .dataframe tbody tr th {\n",
       "        vertical-align: top;\n",
       "    }\n",
       "\n",
       "    .dataframe thead th {\n",
       "        text-align: right;\n",
       "    }\n",
       "</style>\n",
       "<table border=\"1\" class=\"dataframe\">\n",
       "  <thead>\n",
       "    <tr style=\"text-align: right;\">\n",
       "      <th></th>\n",
       "      <th>Age</th>\n",
       "      <th>Gender</th>\n",
       "      <th>OwnHome</th>\n",
       "      <th>Married</th>\n",
       "      <th>Location</th>\n",
       "      <th>Salary</th>\n",
       "      <th>Children</th>\n",
       "      <th>History</th>\n",
       "      <th>Catalogs</th>\n",
       "      <th>AmountSpent</th>\n",
       "      <th>Cust_Id</th>\n",
       "    </tr>\n",
       "  </thead>\n",
       "  <tbody>\n",
       "    <tr>\n",
       "      <th>0</th>\n",
       "      <td>Old</td>\n",
       "      <td>Female</td>\n",
       "      <td>Own</td>\n",
       "      <td>Single</td>\n",
       "      <td>Far</td>\n",
       "      <td>47500</td>\n",
       "      <td>0</td>\n",
       "      <td>High</td>\n",
       "      <td>6</td>\n",
       "      <td>755</td>\n",
       "      <td>247</td>\n",
       "    </tr>\n",
       "    <tr>\n",
       "      <th>1</th>\n",
       "      <td>Middle</td>\n",
       "      <td>Male</td>\n",
       "      <td>Rent</td>\n",
       "      <td>Single</td>\n",
       "      <td>Close</td>\n",
       "      <td>63600</td>\n",
       "      <td>0</td>\n",
       "      <td>High</td>\n",
       "      <td>6</td>\n",
       "      <td>1318</td>\n",
       "      <td>127</td>\n",
       "    </tr>\n",
       "    <tr>\n",
       "      <th>2</th>\n",
       "      <td>Young</td>\n",
       "      <td>Female</td>\n",
       "      <td>Rent</td>\n",
       "      <td>Single</td>\n",
       "      <td>Close</td>\n",
       "      <td>13500</td>\n",
       "      <td>0</td>\n",
       "      <td>Low</td>\n",
       "      <td>18</td>\n",
       "      <td>296</td>\n",
       "      <td>479</td>\n",
       "    </tr>\n",
       "    <tr>\n",
       "      <th>3</th>\n",
       "      <td>Middle</td>\n",
       "      <td>Male</td>\n",
       "      <td>Own</td>\n",
       "      <td>Married</td>\n",
       "      <td>Close</td>\n",
       "      <td>85600</td>\n",
       "      <td>1</td>\n",
       "      <td>High</td>\n",
       "      <td>18</td>\n",
       "      <td>2436</td>\n",
       "      <td>475</td>\n",
       "    </tr>\n",
       "    <tr>\n",
       "      <th>4</th>\n",
       "      <td>Middle</td>\n",
       "      <td>Female</td>\n",
       "      <td>Own</td>\n",
       "      <td>Single</td>\n",
       "      <td>Close</td>\n",
       "      <td>68400</td>\n",
       "      <td>0</td>\n",
       "      <td>High</td>\n",
       "      <td>12</td>\n",
       "      <td>1304</td>\n",
       "      <td>151</td>\n",
       "    </tr>\n",
       "  </tbody>\n",
       "</table>\n",
       "</div>"
      ],
      "text/plain": [
       "      Age  Gender OwnHome  Married Location  Salary  Children History  \\\n",
       "0     Old  Female     Own   Single      Far   47500         0    High   \n",
       "1  Middle    Male    Rent   Single    Close   63600         0    High   \n",
       "2   Young  Female    Rent   Single    Close   13500         0     Low   \n",
       "3  Middle    Male     Own  Married    Close   85600         1    High   \n",
       "4  Middle  Female     Own   Single    Close   68400         0    High   \n",
       "\n",
       "   Catalogs  AmountSpent  Cust_Id  \n",
       "0         6          755      247  \n",
       "1         6         1318      127  \n",
       "2        18          296      479  \n",
       "3        18         2436      475  \n",
       "4        12         1304      151  "
      ]
     },
     "execution_count": 4,
     "metadata": {},
     "output_type": "execute_result"
    }
   ],
   "source": [
    "dm.head()"
   ]
  },
  {
   "cell_type": "code",
   "execution_count": 5,
   "metadata": {},
   "outputs": [
    {
     "data": {
      "text/plain": [
       "['.ipynb_checkpoints',\n",
       " 'bh_sample.csv',\n",
       " 'dm.csv',\n",
       " 'dqr.py',\n",
       " 'Feature engg - structured Data.ipynb']"
      ]
     },
     "execution_count": 5,
     "metadata": {},
     "output_type": "execute_result"
    }
   ],
   "source": [
    "os.listdir()"
   ]
  },
  {
   "cell_type": "code",
   "execution_count": 6,
   "metadata": {},
   "outputs": [
    {
     "data": {
      "text/plain": [
       "Age              0\n",
       "Gender           0\n",
       "OwnHome          0\n",
       "Married          0\n",
       "Location         0\n",
       "Salary           0\n",
       "Children         0\n",
       "History        303\n",
       "Catalogs         0\n",
       "AmountSpent      0\n",
       "Cust_Id          0\n",
       "dtype: int64"
      ]
     },
     "execution_count": 6,
     "metadata": {},
     "output_type": "execute_result"
    }
   ],
   "source": [
    "dm.isnull().sum()"
   ]
  },
  {
   "cell_type": "code",
   "execution_count": 7,
   "metadata": {},
   "outputs": [
    {
     "data": {
      "text/plain": [
       "array(['High', 'Low', 'Medium', nan], dtype=object)"
      ]
     },
     "execution_count": 7,
     "metadata": {},
     "output_type": "execute_result"
    }
   ],
   "source": [
    "dm['History'].unique()"
   ]
  },
  {
   "cell_type": "code",
   "execution_count": 8,
   "metadata": {},
   "outputs": [
    {
     "data": {
      "text/plain": [
       "High      255\n",
       "Low       230\n",
       "Medium    212\n",
       "Name: History, dtype: int64"
      ]
     },
     "execution_count": 8,
     "metadata": {},
     "output_type": "execute_result"
    }
   ],
   "source": [
    "dm.History.value_counts()"
   ]
  },
  {
   "cell_type": "code",
   "execution_count": 9,
   "metadata": {},
   "outputs": [
    {
     "data": {
      "text/plain": [
       "Age             0.0\n",
       "Gender          0.0\n",
       "OwnHome         0.0\n",
       "Married         0.0\n",
       "Location        0.0\n",
       "Salary          0.0\n",
       "Children        0.0\n",
       "History        30.3\n",
       "Catalogs        0.0\n",
       "AmountSpent     0.0\n",
       "Cust_Id         0.0\n",
       "dtype: float64"
      ]
     },
     "execution_count": 9,
     "metadata": {},
     "output_type": "execute_result"
    }
   ],
   "source": [
    "dm.isnull().sum()/dm.shape[0] * 100"
   ]
  },
  {
   "cell_type": "markdown",
   "metadata": {},
   "source": [
    "#Since missing value is more than highesh - we can consider missing as new category\n",
    "#Or use ML algoruithm to impute missing values"
   ]
  },
  {
   "cell_type": "code",
   "execution_count": 10,
   "metadata": {},
   "outputs": [
    {
     "data": {
      "text/html": [
       "<div>\n",
       "<style scoped>\n",
       "    .dataframe tbody tr th:only-of-type {\n",
       "        vertical-align: middle;\n",
       "    }\n",
       "\n",
       "    .dataframe tbody tr th {\n",
       "        vertical-align: top;\n",
       "    }\n",
       "\n",
       "    .dataframe thead th {\n",
       "        text-align: right;\n",
       "    }\n",
       "</style>\n",
       "<table border=\"1\" class=\"dataframe\">\n",
       "  <thead>\n",
       "    <tr style=\"text-align: right;\">\n",
       "      <th></th>\n",
       "      <th>count</th>\n",
       "      <th>unique</th>\n",
       "      <th>top</th>\n",
       "      <th>freq</th>\n",
       "    </tr>\n",
       "  </thead>\n",
       "  <tbody>\n",
       "    <tr>\n",
       "      <th>Age</th>\n",
       "      <td>1000</td>\n",
       "      <td>3</td>\n",
       "      <td>Middle</td>\n",
       "      <td>508</td>\n",
       "    </tr>\n",
       "    <tr>\n",
       "      <th>Gender</th>\n",
       "      <td>1000</td>\n",
       "      <td>2</td>\n",
       "      <td>Female</td>\n",
       "      <td>506</td>\n",
       "    </tr>\n",
       "    <tr>\n",
       "      <th>OwnHome</th>\n",
       "      <td>1000</td>\n",
       "      <td>2</td>\n",
       "      <td>Own</td>\n",
       "      <td>516</td>\n",
       "    </tr>\n",
       "    <tr>\n",
       "      <th>Married</th>\n",
       "      <td>1000</td>\n",
       "      <td>2</td>\n",
       "      <td>Married</td>\n",
       "      <td>502</td>\n",
       "    </tr>\n",
       "    <tr>\n",
       "      <th>Location</th>\n",
       "      <td>1000</td>\n",
       "      <td>2</td>\n",
       "      <td>Close</td>\n",
       "      <td>710</td>\n",
       "    </tr>\n",
       "    <tr>\n",
       "      <th>History</th>\n",
       "      <td>697</td>\n",
       "      <td>3</td>\n",
       "      <td>High</td>\n",
       "      <td>255</td>\n",
       "    </tr>\n",
       "  </tbody>\n",
       "</table>\n",
       "</div>"
      ],
      "text/plain": [
       "         count unique      top freq\n",
       "Age       1000      3   Middle  508\n",
       "Gender    1000      2   Female  506\n",
       "OwnHome   1000      2      Own  516\n",
       "Married   1000      2  Married  502\n",
       "Location  1000      2    Close  710\n",
       "History    697      3     High  255"
      ]
     },
     "execution_count": 10,
     "metadata": {},
     "output_type": "execute_result"
    }
   ],
   "source": [
    "dm.describe(include = 'object').T"
   ]
  },
  {
   "cell_type": "code",
   "execution_count": 11,
   "metadata": {},
   "outputs": [
    {
     "data": {
      "text/html": [
       "<div>\n",
       "<style scoped>\n",
       "    .dataframe tbody tr th:only-of-type {\n",
       "        vertical-align: middle;\n",
       "    }\n",
       "\n",
       "    .dataframe tbody tr th {\n",
       "        vertical-align: top;\n",
       "    }\n",
       "\n",
       "    .dataframe thead th {\n",
       "        text-align: right;\n",
       "    }\n",
       "</style>\n",
       "<table border=\"1\" class=\"dataframe\">\n",
       "  <thead>\n",
       "    <tr style=\"text-align: right;\">\n",
       "      <th></th>\n",
       "      <th>count</th>\n",
       "      <th>unique</th>\n",
       "      <th>top</th>\n",
       "      <th>freq</th>\n",
       "      <th>mean</th>\n",
       "      <th>std</th>\n",
       "      <th>min</th>\n",
       "      <th>25%</th>\n",
       "      <th>50%</th>\n",
       "      <th>75%</th>\n",
       "      <th>max</th>\n",
       "    </tr>\n",
       "  </thead>\n",
       "  <tbody>\n",
       "    <tr>\n",
       "      <th>Age</th>\n",
       "      <td>1000</td>\n",
       "      <td>3</td>\n",
       "      <td>Middle</td>\n",
       "      <td>508</td>\n",
       "      <td>NaN</td>\n",
       "      <td>NaN</td>\n",
       "      <td>NaN</td>\n",
       "      <td>NaN</td>\n",
       "      <td>NaN</td>\n",
       "      <td>NaN</td>\n",
       "      <td>NaN</td>\n",
       "    </tr>\n",
       "    <tr>\n",
       "      <th>Gender</th>\n",
       "      <td>1000</td>\n",
       "      <td>2</td>\n",
       "      <td>Female</td>\n",
       "      <td>506</td>\n",
       "      <td>NaN</td>\n",
       "      <td>NaN</td>\n",
       "      <td>NaN</td>\n",
       "      <td>NaN</td>\n",
       "      <td>NaN</td>\n",
       "      <td>NaN</td>\n",
       "      <td>NaN</td>\n",
       "    </tr>\n",
       "    <tr>\n",
       "      <th>OwnHome</th>\n",
       "      <td>1000</td>\n",
       "      <td>2</td>\n",
       "      <td>Own</td>\n",
       "      <td>516</td>\n",
       "      <td>NaN</td>\n",
       "      <td>NaN</td>\n",
       "      <td>NaN</td>\n",
       "      <td>NaN</td>\n",
       "      <td>NaN</td>\n",
       "      <td>NaN</td>\n",
       "      <td>NaN</td>\n",
       "    </tr>\n",
       "    <tr>\n",
       "      <th>Married</th>\n",
       "      <td>1000</td>\n",
       "      <td>2</td>\n",
       "      <td>Married</td>\n",
       "      <td>502</td>\n",
       "      <td>NaN</td>\n",
       "      <td>NaN</td>\n",
       "      <td>NaN</td>\n",
       "      <td>NaN</td>\n",
       "      <td>NaN</td>\n",
       "      <td>NaN</td>\n",
       "      <td>NaN</td>\n",
       "    </tr>\n",
       "    <tr>\n",
       "      <th>Location</th>\n",
       "      <td>1000</td>\n",
       "      <td>2</td>\n",
       "      <td>Close</td>\n",
       "      <td>710</td>\n",
       "      <td>NaN</td>\n",
       "      <td>NaN</td>\n",
       "      <td>NaN</td>\n",
       "      <td>NaN</td>\n",
       "      <td>NaN</td>\n",
       "      <td>NaN</td>\n",
       "      <td>NaN</td>\n",
       "    </tr>\n",
       "    <tr>\n",
       "      <th>Salary</th>\n",
       "      <td>1000</td>\n",
       "      <td>NaN</td>\n",
       "      <td>NaN</td>\n",
       "      <td>NaN</td>\n",
       "      <td>56103.9</td>\n",
       "      <td>30616.3</td>\n",
       "      <td>10100</td>\n",
       "      <td>29975</td>\n",
       "      <td>53700</td>\n",
       "      <td>77025</td>\n",
       "      <td>168800</td>\n",
       "    </tr>\n",
       "    <tr>\n",
       "      <th>Children</th>\n",
       "      <td>1000</td>\n",
       "      <td>NaN</td>\n",
       "      <td>NaN</td>\n",
       "      <td>NaN</td>\n",
       "      <td>0.934</td>\n",
       "      <td>1.05107</td>\n",
       "      <td>0</td>\n",
       "      <td>0</td>\n",
       "      <td>1</td>\n",
       "      <td>2</td>\n",
       "      <td>3</td>\n",
       "    </tr>\n",
       "    <tr>\n",
       "      <th>History</th>\n",
       "      <td>697</td>\n",
       "      <td>3</td>\n",
       "      <td>High</td>\n",
       "      <td>255</td>\n",
       "      <td>NaN</td>\n",
       "      <td>NaN</td>\n",
       "      <td>NaN</td>\n",
       "      <td>NaN</td>\n",
       "      <td>NaN</td>\n",
       "      <td>NaN</td>\n",
       "      <td>NaN</td>\n",
       "    </tr>\n",
       "    <tr>\n",
       "      <th>Catalogs</th>\n",
       "      <td>1000</td>\n",
       "      <td>NaN</td>\n",
       "      <td>NaN</td>\n",
       "      <td>NaN</td>\n",
       "      <td>14.682</td>\n",
       "      <td>6.6229</td>\n",
       "      <td>6</td>\n",
       "      <td>6</td>\n",
       "      <td>12</td>\n",
       "      <td>18</td>\n",
       "      <td>24</td>\n",
       "    </tr>\n",
       "    <tr>\n",
       "      <th>AmountSpent</th>\n",
       "      <td>1000</td>\n",
       "      <td>NaN</td>\n",
       "      <td>NaN</td>\n",
       "      <td>NaN</td>\n",
       "      <td>1216.77</td>\n",
       "      <td>961.069</td>\n",
       "      <td>38</td>\n",
       "      <td>488.25</td>\n",
       "      <td>962</td>\n",
       "      <td>1688.5</td>\n",
       "      <td>6217</td>\n",
       "    </tr>\n",
       "    <tr>\n",
       "      <th>Cust_Id</th>\n",
       "      <td>1000</td>\n",
       "      <td>NaN</td>\n",
       "      <td>NaN</td>\n",
       "      <td>NaN</td>\n",
       "      <td>643.93</td>\n",
       "      <td>369.047</td>\n",
       "      <td>12</td>\n",
       "      <td>316.75</td>\n",
       "      <td>636</td>\n",
       "      <td>955.5</td>\n",
       "      <td>1297</td>\n",
       "    </tr>\n",
       "  </tbody>\n",
       "</table>\n",
       "</div>"
      ],
      "text/plain": [
       "            count unique      top freq     mean      std    min     25%  \\\n",
       "Age          1000      3   Middle  508      NaN      NaN    NaN     NaN   \n",
       "Gender       1000      2   Female  506      NaN      NaN    NaN     NaN   \n",
       "OwnHome      1000      2      Own  516      NaN      NaN    NaN     NaN   \n",
       "Married      1000      2  Married  502      NaN      NaN    NaN     NaN   \n",
       "Location     1000      2    Close  710      NaN      NaN    NaN     NaN   \n",
       "Salary       1000    NaN      NaN  NaN  56103.9  30616.3  10100   29975   \n",
       "Children     1000    NaN      NaN  NaN    0.934  1.05107      0       0   \n",
       "History       697      3     High  255      NaN      NaN    NaN     NaN   \n",
       "Catalogs     1000    NaN      NaN  NaN   14.682   6.6229      6       6   \n",
       "AmountSpent  1000    NaN      NaN  NaN  1216.77  961.069     38  488.25   \n",
       "Cust_Id      1000    NaN      NaN  NaN   643.93  369.047     12  316.75   \n",
       "\n",
       "               50%     75%     max  \n",
       "Age            NaN     NaN     NaN  \n",
       "Gender         NaN     NaN     NaN  \n",
       "OwnHome        NaN     NaN     NaN  \n",
       "Married        NaN     NaN     NaN  \n",
       "Location       NaN     NaN     NaN  \n",
       "Salary       53700   77025  168800  \n",
       "Children         1       2       3  \n",
       "History        NaN     NaN     NaN  \n",
       "Catalogs        12      18      24  \n",
       "AmountSpent    962  1688.5    6217  \n",
       "Cust_Id        636   955.5    1297  "
      ]
     },
     "execution_count": 11,
     "metadata": {},
     "output_type": "execute_result"
    }
   ],
   "source": [
    "dm.describe(include = 'all').T"
   ]
  },
  {
   "cell_type": "code",
   "execution_count": 12,
   "metadata": {},
   "outputs": [],
   "source": [
    "#Data Quality report\n",
    "%run dqr.py"
   ]
  },
  {
   "cell_type": "code",
   "execution_count": 13,
   "metadata": {},
   "outputs": [],
   "source": [
    "report = dataQuality(dm)"
   ]
  },
  {
   "cell_type": "code",
   "execution_count": 14,
   "metadata": {},
   "outputs": [
    {
     "data": {
      "text/plain": [
       "dict_keys(['numeric', 'categorical'])"
      ]
     },
     "execution_count": 14,
     "metadata": {},
     "output_type": "execute_result"
    }
   ],
   "source": [
    "report.keys()"
   ]
  },
  {
   "cell_type": "code",
   "execution_count": 15,
   "metadata": {},
   "outputs": [
    {
     "data": {
      "text/html": [
       "<div>\n",
       "<style scoped>\n",
       "    .dataframe tbody tr th:only-of-type {\n",
       "        vertical-align: middle;\n",
       "    }\n",
       "\n",
       "    .dataframe tbody tr th {\n",
       "        vertical-align: top;\n",
       "    }\n",
       "\n",
       "    .dataframe thead th {\n",
       "        text-align: right;\n",
       "    }\n",
       "</style>\n",
       "<table border=\"1\" class=\"dataframe\">\n",
       "  <thead>\n",
       "    <tr style=\"text-align: right;\">\n",
       "      <th></th>\n",
       "      <th>Count</th>\n",
       "      <th>Unique</th>\n",
       "      <th>Miss_per</th>\n",
       "      <th>Min</th>\n",
       "      <th>Max</th>\n",
       "      <th>Mean</th>\n",
       "      <th>Median</th>\n",
       "      <th>Std</th>\n",
       "      <th>Var</th>\n",
       "      <th>Q1</th>\n",
       "      <th>Q3</th>\n",
       "      <th>q99</th>\n",
       "    </tr>\n",
       "  </thead>\n",
       "  <tbody>\n",
       "    <tr>\n",
       "      <th>Salary</th>\n",
       "      <td>1000.0</td>\n",
       "      <td>636.0</td>\n",
       "      <td>0.0</td>\n",
       "      <td>10100.0</td>\n",
       "      <td>168800.0</td>\n",
       "      <td>56103.900</td>\n",
       "      <td>53700.0</td>\n",
       "      <td>30616.314826</td>\n",
       "      <td>9.373587e+08</td>\n",
       "      <td>29975.00</td>\n",
       "      <td>77025.0</td>\n",
       "      <td>126505.00</td>\n",
       "    </tr>\n",
       "    <tr>\n",
       "      <th>Children</th>\n",
       "      <td>1000.0</td>\n",
       "      <td>4.0</td>\n",
       "      <td>0.0</td>\n",
       "      <td>0.0</td>\n",
       "      <td>3.0</td>\n",
       "      <td>0.934</td>\n",
       "      <td>1.0</td>\n",
       "      <td>1.051070</td>\n",
       "      <td>1.104749e+00</td>\n",
       "      <td>0.00</td>\n",
       "      <td>2.0</td>\n",
       "      <td>3.00</td>\n",
       "    </tr>\n",
       "    <tr>\n",
       "      <th>Catalogs</th>\n",
       "      <td>1000.0</td>\n",
       "      <td>4.0</td>\n",
       "      <td>0.0</td>\n",
       "      <td>6.0</td>\n",
       "      <td>24.0</td>\n",
       "      <td>14.682</td>\n",
       "      <td>12.0</td>\n",
       "      <td>6.622895</td>\n",
       "      <td>4.386274e+01</td>\n",
       "      <td>6.00</td>\n",
       "      <td>18.0</td>\n",
       "      <td>24.00</td>\n",
       "    </tr>\n",
       "    <tr>\n",
       "      <th>AmountSpent</th>\n",
       "      <td>1000.0</td>\n",
       "      <td>852.0</td>\n",
       "      <td>0.0</td>\n",
       "      <td>38.0</td>\n",
       "      <td>6217.0</td>\n",
       "      <td>1216.770</td>\n",
       "      <td>962.0</td>\n",
       "      <td>961.068613</td>\n",
       "      <td>9.236529e+05</td>\n",
       "      <td>488.25</td>\n",
       "      <td>1688.5</td>\n",
       "      <td>4281.79</td>\n",
       "    </tr>\n",
       "    <tr>\n",
       "      <th>Cust_Id</th>\n",
       "      <td>1000.0</td>\n",
       "      <td>709.0</td>\n",
       "      <td>0.0</td>\n",
       "      <td>12.0</td>\n",
       "      <td>1297.0</td>\n",
       "      <td>643.930</td>\n",
       "      <td>636.0</td>\n",
       "      <td>369.047166</td>\n",
       "      <td>1.361958e+05</td>\n",
       "      <td>316.75</td>\n",
       "      <td>955.5</td>\n",
       "      <td>1283.03</td>\n",
       "    </tr>\n",
       "  </tbody>\n",
       "</table>\n",
       "</div>"
      ],
      "text/plain": [
       "              Count  Unique  Miss_per      Min       Max       Mean   Median  \\\n",
       "Salary       1000.0   636.0       0.0  10100.0  168800.0  56103.900  53700.0   \n",
       "Children     1000.0     4.0       0.0      0.0       3.0      0.934      1.0   \n",
       "Catalogs     1000.0     4.0       0.0      6.0      24.0     14.682     12.0   \n",
       "AmountSpent  1000.0   852.0       0.0     38.0    6217.0   1216.770    962.0   \n",
       "Cust_Id      1000.0   709.0       0.0     12.0    1297.0    643.930    636.0   \n",
       "\n",
       "                      Std           Var        Q1       Q3        q99  \n",
       "Salary       30616.314826  9.373587e+08  29975.00  77025.0  126505.00  \n",
       "Children         1.051070  1.104749e+00      0.00      2.0       3.00  \n",
       "Catalogs         6.622895  4.386274e+01      6.00     18.0      24.00  \n",
       "AmountSpent    961.068613  9.236529e+05    488.25   1688.5    4281.79  \n",
       "Cust_Id        369.047166  1.361958e+05    316.75    955.5    1283.03  "
      ]
     },
     "execution_count": 15,
     "metadata": {},
     "output_type": "execute_result"
    }
   ],
   "source": [
    "#Summary of numeric variables\n",
    "report['numeric']"
   ]
  },
  {
   "cell_type": "code",
   "execution_count": 16,
   "metadata": {},
   "outputs": [
    {
     "data": {
      "text/html": [
       "<div>\n",
       "<style scoped>\n",
       "    .dataframe tbody tr th:only-of-type {\n",
       "        vertical-align: middle;\n",
       "    }\n",
       "\n",
       "    .dataframe tbody tr th {\n",
       "        vertical-align: top;\n",
       "    }\n",
       "\n",
       "    .dataframe thead th {\n",
       "        text-align: right;\n",
       "    }\n",
       "</style>\n",
       "<table border=\"1\" class=\"dataframe\">\n",
       "  <thead>\n",
       "    <tr style=\"text-align: right;\">\n",
       "      <th></th>\n",
       "      <th>Count</th>\n",
       "      <th>Unique</th>\n",
       "      <th>Miss_per</th>\n",
       "      <th>Freq_Level</th>\n",
       "      <th>freq_cat_Per</th>\n",
       "    </tr>\n",
       "  </thead>\n",
       "  <tbody>\n",
       "    <tr>\n",
       "      <th>Age</th>\n",
       "      <td>1000</td>\n",
       "      <td>3</td>\n",
       "      <td>0</td>\n",
       "      <td>Middle</td>\n",
       "      <td>0.508</td>\n",
       "    </tr>\n",
       "    <tr>\n",
       "      <th>Gender</th>\n",
       "      <td>1000</td>\n",
       "      <td>2</td>\n",
       "      <td>0</td>\n",
       "      <td>Female</td>\n",
       "      <td>0.506</td>\n",
       "    </tr>\n",
       "    <tr>\n",
       "      <th>OwnHome</th>\n",
       "      <td>1000</td>\n",
       "      <td>2</td>\n",
       "      <td>0</td>\n",
       "      <td>Own</td>\n",
       "      <td>0.516</td>\n",
       "    </tr>\n",
       "    <tr>\n",
       "      <th>Married</th>\n",
       "      <td>1000</td>\n",
       "      <td>2</td>\n",
       "      <td>0</td>\n",
       "      <td>Married</td>\n",
       "      <td>0.502</td>\n",
       "    </tr>\n",
       "    <tr>\n",
       "      <th>Location</th>\n",
       "      <td>1000</td>\n",
       "      <td>2</td>\n",
       "      <td>0</td>\n",
       "      <td>Close</td>\n",
       "      <td>0.71</td>\n",
       "    </tr>\n",
       "    <tr>\n",
       "      <th>History</th>\n",
       "      <td>697</td>\n",
       "      <td>4</td>\n",
       "      <td>0.303</td>\n",
       "      <td>High</td>\n",
       "      <td>0.255</td>\n",
       "    </tr>\n",
       "  </tbody>\n",
       "</table>\n",
       "</div>"
      ],
      "text/plain": [
       "         Count Unique Miss_per Freq_Level freq_cat_Per\n",
       "Age       1000      3        0     Middle        0.508\n",
       "Gender    1000      2        0     Female        0.506\n",
       "OwnHome   1000      2        0        Own        0.516\n",
       "Married   1000      2        0    Married        0.502\n",
       "Location  1000      2        0      Close         0.71\n",
       "History    697      4    0.303       High        0.255"
      ]
     },
     "execution_count": 16,
     "metadata": {},
     "output_type": "execute_result"
    }
   ],
   "source": [
    "#Summary of categorical variables\n",
    "report['categorical']"
   ]
  },
  {
   "cell_type": "code",
   "execution_count": 17,
   "metadata": {},
   "outputs": [
    {
     "data": {
      "text/plain": [
       "History\n",
       "High      2186.137255\n",
       "Low        357.086957\n",
       "Medium     950.400943\n",
       "Name: AmountSpent, dtype: float64"
      ]
     },
     "execution_count": 17,
     "metadata": {},
     "output_type": "execute_result"
    }
   ],
   "source": [
    "dm.groupby('History')['AmountSpent'].mean()"
   ]
  },
  {
   "cell_type": "markdown",
   "metadata": {},
   "source": [
    "#Using ML to fill missing values by using ML algorithm"
   ]
  },
  {
   "cell_type": "code",
   "execution_count": 18,
   "metadata": {},
   "outputs": [],
   "source": [
    "#Train\n",
    "train = dm[~dm['History'].isin([np.nan])]"
   ]
  },
  {
   "cell_type": "code",
   "execution_count": 19,
   "metadata": {},
   "outputs": [
    {
     "data": {
      "text/plain": [
       "(697, 11)"
      ]
     },
     "execution_count": 19,
     "metadata": {},
     "output_type": "execute_result"
    }
   ],
   "source": [
    "train.shape"
   ]
  },
  {
   "cell_type": "code",
   "execution_count": 20,
   "metadata": {},
   "outputs": [],
   "source": [
    "test = dm[dm['History'].isin([np.nan])]"
   ]
  },
  {
   "cell_type": "code",
   "execution_count": 21,
   "metadata": {},
   "outputs": [
    {
     "data": {
      "text/plain": [
       "(303, 11)"
      ]
     },
     "execution_count": 21,
     "metadata": {},
     "output_type": "execute_result"
    }
   ],
   "source": [
    "test.shape"
   ]
  },
  {
   "cell_type": "code",
   "execution_count": 22,
   "metadata": {},
   "outputs": [
    {
     "data": {
      "text/plain": [
       "Index(['Age', 'Gender', 'OwnHome', 'Married', 'Location', 'Salary', 'Children',\n",
       "       'History', 'Catalogs', 'AmountSpent', 'Cust_Id'],\n",
       "      dtype='object')"
      ]
     },
     "execution_count": 22,
     "metadata": {},
     "output_type": "execute_result"
    }
   ],
   "source": [
    "train.columns"
   ]
  },
  {
   "cell_type": "code",
   "execution_count": 23,
   "metadata": {},
   "outputs": [],
   "source": [
    "x_train  = pd.get_dummies(train.drop(['Cust_Id', 'History'], axis = 1)) #One hot encoding"
   ]
  },
  {
   "cell_type": "code",
   "execution_count": 24,
   "metadata": {},
   "outputs": [
    {
     "data": {
      "text/plain": [
       "(697, 15)"
      ]
     },
     "execution_count": 24,
     "metadata": {},
     "output_type": "execute_result"
    }
   ],
   "source": [
    "x_train.shape"
   ]
  },
  {
   "cell_type": "code",
   "execution_count": 25,
   "metadata": {},
   "outputs": [
    {
     "data": {
      "text/plain": [
       "0        High\n",
       "1        High\n",
       "2         Low\n",
       "3        High\n",
       "4        High\n",
       "        ...  \n",
       "991       Low\n",
       "993      High\n",
       "997    Medium\n",
       "998    Medium\n",
       "999    Medium\n",
       "Name: History, Length: 697, dtype: object"
      ]
     },
     "execution_count": 25,
     "metadata": {},
     "output_type": "execute_result"
    }
   ],
   "source": [
    "y_train = train['History']\n",
    "y_train"
   ]
  },
  {
   "cell_type": "code",
   "execution_count": 26,
   "metadata": {},
   "outputs": [
    {
     "data": {
      "text/plain": [
       "array(['High', 'Low', 'Medium'], dtype=object)"
      ]
     },
     "execution_count": 26,
     "metadata": {},
     "output_type": "execute_result"
    }
   ],
   "source": [
    "y_train.unique()"
   ]
  },
  {
   "cell_type": "markdown",
   "metadata": {},
   "source": [
    "#need to make these are numerical - using label encoder"
   ]
  },
  {
   "cell_type": "code",
   "execution_count": 27,
   "metadata": {},
   "outputs": [],
   "source": [
    "from sklearn.preprocessing import LabelEncoder"
   ]
  },
  {
   "cell_type": "code",
   "execution_count": 28,
   "metadata": {},
   "outputs": [],
   "source": [
    "enc = LabelEncoder()\n",
    "y_train = enc.fit_transform(y_train)"
   ]
  },
  {
   "cell_type": "code",
   "execution_count": 29,
   "metadata": {},
   "outputs": [
    {
     "data": {
      "text/plain": [
       "array([0, 0, 1, 0, 0, 1, 2, 0, 1, 0, 2, 0, 0, 0, 0, 1, 1, 1, 2, 0, 2, 1,\n",
       "       0, 2, 2, 0, 0, 0, 1, 0, 2, 1, 1, 0, 2, 0, 0, 0, 0, 0, 2, 2, 0, 0,\n",
       "       0, 2, 2, 1, 1, 0, 2, 0, 0, 1, 1, 0, 1, 1, 2, 2, 2, 1, 2, 1, 0, 0,\n",
       "       0, 2, 1, 1, 1, 0, 0, 0, 1, 1, 0, 2, 0, 0, 0, 1, 2, 1, 2, 0, 0, 1,\n",
       "       0, 1, 0, 2, 2, 0, 2, 1, 0, 1, 0, 0, 1, 1, 1, 0, 0, 1, 0, 0, 1, 1,\n",
       "       0, 1, 0, 1, 2, 1, 2, 0, 0, 0, 1, 0, 2, 0, 0, 2, 1, 2, 2, 2, 0, 1,\n",
       "       1, 2, 2, 1, 1, 0, 1, 1, 0, 0, 0, 0, 1, 1, 2, 2, 1, 0, 1, 1, 2, 0,\n",
       "       1, 2, 2, 0, 2, 1, 1, 2, 1, 2, 0, 1, 0, 2, 2, 2, 0, 0, 2, 0, 1, 0,\n",
       "       1, 1, 1, 1, 1, 0, 0, 1, 1, 0, 1, 1, 1, 0, 0, 1, 1, 0, 0, 1, 0, 0,\n",
       "       0, 1, 0, 2, 2, 2, 2, 0, 2, 1, 2, 0, 2, 0, 2, 2, 1, 2, 2, 2, 0, 2,\n",
       "       0, 2, 0, 1, 1, 2, 1, 1, 1, 2, 0, 0, 0, 2, 2, 2, 2, 0, 0, 0, 2, 0,\n",
       "       2, 1, 1, 2, 0, 0, 0, 2, 1, 0, 2, 0, 1, 2, 0, 0, 0, 1, 2, 1, 0, 2,\n",
       "       1, 0, 0, 2, 2, 1, 2, 0, 0, 2, 0, 1, 1, 0, 2, 2, 1, 1, 1, 0, 0, 2,\n",
       "       2, 0, 2, 0, 1, 0, 0, 1, 0, 1, 2, 0, 1, 0, 2, 0, 1, 1, 0, 0, 2, 2,\n",
       "       1, 1, 0, 0, 1, 1, 0, 0, 2, 1, 0, 2, 1, 0, 1, 0, 2, 2, 0, 1, 0, 1,\n",
       "       1, 1, 2, 2, 1, 0, 0, 2, 2, 0, 0, 1, 1, 2, 2, 0, 1, 0, 2, 1, 2, 0,\n",
       "       1, 1, 1, 1, 2, 2, 2, 2, 2, 0, 1, 1, 1, 1, 0, 2, 1, 1, 0, 0, 1, 2,\n",
       "       1, 2, 0, 0, 0, 1, 0, 1, 2, 1, 1, 1, 2, 1, 0, 0, 0, 1, 1, 1, 1, 1,\n",
       "       1, 1, 2, 0, 2, 1, 2, 2, 0, 1, 0, 0, 0, 1, 2, 0, 1, 1, 2, 0, 2, 2,\n",
       "       2, 1, 0, 0, 1, 2, 0, 1, 1, 1, 2, 1, 1, 1, 0, 1, 2, 1, 1, 0, 2, 1,\n",
       "       1, 1, 2, 2, 0, 0, 1, 2, 0, 0, 0, 1, 1, 2, 1, 1, 1, 0, 2, 1, 2, 2,\n",
       "       1, 2, 1, 1, 1, 1, 2, 2, 2, 2, 2, 2, 1, 1, 0, 2, 0, 2, 1, 2, 2, 0,\n",
       "       0, 1, 1, 1, 2, 2, 2, 2, 0, 0, 2, 2, 1, 2, 2, 2, 0, 1, 0, 1, 2, 1,\n",
       "       1, 2, 1, 1, 0, 1, 2, 0, 2, 0, 2, 1, 0, 1, 2, 0, 0, 1, 0, 0, 0, 1,\n",
       "       0, 2, 0, 1, 2, 2, 0, 1, 0, 2, 2, 1, 0, 1, 2, 0, 0, 2, 0, 2, 0, 0,\n",
       "       2, 0, 1, 1, 1, 1, 1, 0, 2, 0, 1, 1, 2, 0, 1, 2, 1, 1, 0, 2, 2, 0,\n",
       "       0, 2, 2, 0, 0, 0, 0, 0, 1, 2, 1, 2, 2, 0, 0, 2, 0, 1, 2, 2, 0, 0,\n",
       "       2, 0, 2, 0, 0, 1, 2, 2, 1, 0, 2, 0, 1, 1, 0, 1, 2, 1, 0, 2, 2, 0,\n",
       "       2, 0, 0, 0, 1, 0, 1, 2, 2, 2, 2, 0, 2, 2, 2, 1, 0, 1, 0, 0, 2, 1,\n",
       "       2, 0, 1, 1, 0, 0, 1, 2, 0, 2, 2, 2, 1, 1, 1, 1, 0, 0, 1, 2, 2, 2,\n",
       "       0, 0, 2, 0, 2, 1, 1, 0, 1, 1, 2, 2, 2, 0, 0, 0, 2, 2, 0, 2, 0, 0,\n",
       "       0, 0, 0, 1, 0, 0, 0, 0, 1, 0, 1, 0, 2, 2, 2])"
      ]
     },
     "execution_count": 29,
     "metadata": {},
     "output_type": "execute_result"
    }
   ],
   "source": [
    "y_train"
   ]
  },
  {
   "cell_type": "code",
   "execution_count": 30,
   "metadata": {},
   "outputs": [
    {
     "data": {
      "text/plain": [
       "array(['High', 'Low', 'Medium'], dtype=object)"
      ]
     },
     "execution_count": 30,
     "metadata": {},
     "output_type": "execute_result"
    }
   ],
   "source": [
    "enc.classes_"
   ]
  },
  {
   "cell_type": "markdown",
   "metadata": {},
   "source": [
    " - ene.class_ follows same heirarchy as before like y_train.unique()"
   ]
  },
  {
   "cell_type": "markdown",
   "metadata": {},
   "source": [
    "# Decison tree classifier to impute missing values\n",
    "#OR Imputing missing vlaues using ML algorithm"
   ]
  },
  {
   "cell_type": "code",
   "execution_count": 31,
   "metadata": {},
   "outputs": [],
   "source": [
    "import sklearn"
   ]
  },
  {
   "cell_type": "code",
   "execution_count": 32,
   "metadata": {},
   "outputs": [],
   "source": [
    "from sklearn.tree import DecisionTreeClassifier"
   ]
  },
  {
   "cell_type": "code",
   "execution_count": 33,
   "metadata": {},
   "outputs": [],
   "source": [
    "clf = DecisionTreeClassifier(max_depth = 3)"
   ]
  },
  {
   "cell_type": "code",
   "execution_count": 34,
   "metadata": {},
   "outputs": [],
   "source": [
    "from sklearn.model_selection import GridSearchCV"
   ]
  },
  {
   "cell_type": "code",
   "execution_count": 35,
   "metadata": {},
   "outputs": [
    {
     "data": {
      "text/plain": [
       "GridSearchCV(estimator=DecisionTreeClassifier(max_depth=3),\n",
       "             param_grid={'max_depth': [3, 5, 7]})"
      ]
     },
     "execution_count": 35,
     "metadata": {},
     "output_type": "execute_result"
    }
   ],
   "source": [
    "model = GridSearchCV(clf, param_grid = {'max_depth': [3,5,7]})\n",
    "model.fit(x_train, y_train)"
   ]
  },
  {
   "cell_type": "code",
   "execution_count": 36,
   "metadata": {},
   "outputs": [
    {
     "data": {
      "text/plain": [
       "DecisionTreeClassifier(max_depth=7)"
      ]
     },
     "execution_count": 36,
     "metadata": {},
     "output_type": "execute_result"
    }
   ],
   "source": [
    "model.best_estimator_"
   ]
  },
  {
   "cell_type": "code",
   "execution_count": 37,
   "metadata": {},
   "outputs": [
    {
     "data": {
      "text/plain": [
       "0.9197636176772868"
      ]
     },
     "execution_count": 37,
     "metadata": {},
     "output_type": "execute_result"
    }
   ],
   "source": [
    "model.best_score_"
   ]
  },
  {
   "cell_type": "code",
   "execution_count": 38,
   "metadata": {},
   "outputs": [
    {
     "data": {
      "text/html": [
       "<div>\n",
       "<style scoped>\n",
       "    .dataframe tbody tr th:only-of-type {\n",
       "        vertical-align: middle;\n",
       "    }\n",
       "\n",
       "    .dataframe tbody tr th {\n",
       "        vertical-align: top;\n",
       "    }\n",
       "\n",
       "    .dataframe thead th {\n",
       "        text-align: right;\n",
       "    }\n",
       "</style>\n",
       "<table border=\"1\" class=\"dataframe\">\n",
       "  <thead>\n",
       "    <tr style=\"text-align: right;\">\n",
       "      <th></th>\n",
       "      <th>Age</th>\n",
       "      <th>Gender</th>\n",
       "      <th>OwnHome</th>\n",
       "      <th>Married</th>\n",
       "      <th>Location</th>\n",
       "      <th>Salary</th>\n",
       "      <th>Children</th>\n",
       "      <th>History</th>\n",
       "      <th>Catalogs</th>\n",
       "      <th>AmountSpent</th>\n",
       "      <th>Cust_Id</th>\n",
       "    </tr>\n",
       "  </thead>\n",
       "  <tbody>\n",
       "    <tr>\n",
       "      <th>9</th>\n",
       "      <td>Old</td>\n",
       "      <td>Male</td>\n",
       "      <td>Own</td>\n",
       "      <td>Married</td>\n",
       "      <td>Far</td>\n",
       "      <td>80700</td>\n",
       "      <td>0</td>\n",
       "      <td>NaN</td>\n",
       "      <td>18</td>\n",
       "      <td>3034</td>\n",
       "      <td>475</td>\n",
       "    </tr>\n",
       "    <tr>\n",
       "      <th>10</th>\n",
       "      <td>Young</td>\n",
       "      <td>Male</td>\n",
       "      <td>Rent</td>\n",
       "      <td>Married</td>\n",
       "      <td>Close</td>\n",
       "      <td>43700</td>\n",
       "      <td>1</td>\n",
       "      <td>NaN</td>\n",
       "      <td>12</td>\n",
       "      <td>927</td>\n",
       "      <td>157</td>\n",
       "    </tr>\n",
       "    <tr>\n",
       "      <th>15</th>\n",
       "      <td>Middle</td>\n",
       "      <td>Female</td>\n",
       "      <td>Own</td>\n",
       "      <td>Married</td>\n",
       "      <td>Far</td>\n",
       "      <td>83100</td>\n",
       "      <td>1</td>\n",
       "      <td>NaN</td>\n",
       "      <td>12</td>\n",
       "      <td>2766</td>\n",
       "      <td>808</td>\n",
       "    </tr>\n",
       "    <tr>\n",
       "      <th>24</th>\n",
       "      <td>Young</td>\n",
       "      <td>Female</td>\n",
       "      <td>Rent</td>\n",
       "      <td>Married</td>\n",
       "      <td>Close</td>\n",
       "      <td>41700</td>\n",
       "      <td>1</td>\n",
       "      <td>NaN</td>\n",
       "      <td>6</td>\n",
       "      <td>521</td>\n",
       "      <td>661</td>\n",
       "    </tr>\n",
       "    <tr>\n",
       "      <th>26</th>\n",
       "      <td>Middle</td>\n",
       "      <td>Male</td>\n",
       "      <td>Own</td>\n",
       "      <td>Single</td>\n",
       "      <td>Close</td>\n",
       "      <td>62800</td>\n",
       "      <td>3</td>\n",
       "      <td>NaN</td>\n",
       "      <td>6</td>\n",
       "      <td>707</td>\n",
       "      <td>973</td>\n",
       "    </tr>\n",
       "  </tbody>\n",
       "</table>\n",
       "</div>"
      ],
      "text/plain": [
       "       Age  Gender OwnHome  Married Location  Salary  Children History  \\\n",
       "9      Old    Male     Own  Married      Far   80700         0     NaN   \n",
       "10   Young    Male    Rent  Married    Close   43700         1     NaN   \n",
       "15  Middle  Female     Own  Married      Far   83100         1     NaN   \n",
       "24   Young  Female    Rent  Married    Close   41700         1     NaN   \n",
       "26  Middle    Male     Own   Single    Close   62800         3     NaN   \n",
       "\n",
       "    Catalogs  AmountSpent  Cust_Id  \n",
       "9         18         3034      475  \n",
       "10        12          927      157  \n",
       "15        12         2766      808  \n",
       "24         6          521      661  \n",
       "26         6          707      973  "
      ]
     },
     "execution_count": 38,
     "metadata": {},
     "output_type": "execute_result"
    }
   ],
   "source": [
    "test.head()"
   ]
  },
  {
   "cell_type": "code",
   "execution_count": 39,
   "metadata": {},
   "outputs": [
    {
     "data": {
      "text/plain": [
       "(303, 15)"
      ]
     },
     "execution_count": 39,
     "metadata": {},
     "output_type": "execute_result"
    }
   ],
   "source": [
    "x_test = pd.get_dummies(test.drop(['Cust_Id', 'History'], axis = 1))\n",
    "x_test.shape"
   ]
  },
  {
   "cell_type": "code",
   "execution_count": 40,
   "metadata": {},
   "outputs": [],
   "source": [
    "clf1 = model.best_estimator_"
   ]
  },
  {
   "cell_type": "code",
   "execution_count": 41,
   "metadata": {},
   "outputs": [
    {
     "data": {
      "text/plain": [
       "array([0, 2, 0, 2, 2, 1, 2, 2, 0, 0, 0, 2, 0, 2, 1, 0, 0, 1, 1, 0, 1, 2,\n",
       "       2, 1, 0, 2, 1, 2, 0, 0, 0, 1, 1, 2, 0, 1, 1, 1, 2, 1, 2, 1, 1, 2,\n",
       "       1, 1, 1, 0, 1, 0, 0, 2, 0, 0, 0, 2, 2, 0, 0, 0, 1, 0, 0, 2, 2, 1,\n",
       "       0, 2, 0, 0, 1, 1, 0, 1, 2, 0, 0, 0, 1, 2, 2, 1, 2, 2, 2, 2, 2, 1,\n",
       "       1, 2, 0, 1, 2, 0, 0, 0, 2, 2, 1, 1, 0, 1, 1, 2, 0, 2, 1, 2, 1, 2,\n",
       "       2, 2, 2, 1, 1, 2, 2, 1, 2, 0, 0, 1, 2, 0, 1, 2, 0, 1, 1, 2, 0, 2,\n",
       "       1, 2, 2, 2, 0, 1, 2, 0, 2, 0, 0, 2, 0, 2, 1, 2, 0, 2, 2, 0, 1, 1,\n",
       "       2, 2, 2, 1, 2, 1, 1, 1, 1, 2, 1, 2, 2, 1, 2, 2, 2, 0, 2, 0, 2, 0,\n",
       "       0, 0, 0, 1, 0, 1, 1, 2, 0, 2, 1, 1, 2, 0, 0, 1, 1, 1, 2, 1, 0, 1,\n",
       "       0, 2, 2, 0, 0, 1, 1, 2, 0, 2, 1, 2, 1, 0, 2, 2, 2, 0, 2, 0, 2, 2,\n",
       "       2, 0, 2, 1, 1, 2, 1, 1, 2, 1, 0, 0, 1, 0, 1, 0, 0, 0, 2, 1, 0, 1,\n",
       "       2, 0, 2, 2, 0, 2, 2, 1, 0, 1, 0, 1, 2, 0, 0, 1, 2, 1, 0, 2, 0, 1,\n",
       "       1, 2, 2, 2, 1, 0, 1, 1, 1, 2, 1, 1, 1, 0, 2, 2, 2, 0, 0, 2, 0, 1,\n",
       "       0, 0, 1, 2, 1, 1, 2, 0, 1, 1, 1, 2, 0, 0, 1, 1, 2])"
      ]
     },
     "execution_count": 41,
     "metadata": {},
     "output_type": "execute_result"
    }
   ],
   "source": [
    "pred = clf1.predict(x_test)\n",
    "pred"
   ]
  },
  {
   "cell_type": "code",
   "execution_count": 42,
   "metadata": {},
   "outputs": [
    {
     "data": {
      "text/plain": [
       "array(['High', 'Medium', 'High', 'Medium', 'Medium', 'Low', 'Medium',\n",
       "       'Medium', 'High', 'High', 'High', 'Medium', 'High', 'Medium',\n",
       "       'Low', 'High', 'High', 'Low', 'Low', 'High', 'Low', 'Medium',\n",
       "       'Medium', 'Low', 'High', 'Medium', 'Low', 'Medium', 'High', 'High',\n",
       "       'High', 'Low', 'Low', 'Medium', 'High', 'Low', 'Low', 'Low',\n",
       "       'Medium', 'Low', 'Medium', 'Low', 'Low', 'Medium', 'Low', 'Low',\n",
       "       'Low', 'High', 'Low', 'High', 'High', 'Medium', 'High', 'High',\n",
       "       'High', 'Medium', 'Medium', 'High', 'High', 'High', 'Low', 'High',\n",
       "       'High', 'Medium', 'Medium', 'Low', 'High', 'Medium', 'High',\n",
       "       'High', 'Low', 'Low', 'High', 'Low', 'Medium', 'High', 'High',\n",
       "       'High', 'Low', 'Medium', 'Medium', 'Low', 'Medium', 'Medium',\n",
       "       'Medium', 'Medium', 'Medium', 'Low', 'Low', 'Medium', 'High',\n",
       "       'Low', 'Medium', 'High', 'High', 'High', 'Medium', 'Medium', 'Low',\n",
       "       'Low', 'High', 'Low', 'Low', 'Medium', 'High', 'Medium', 'Low',\n",
       "       'Medium', 'Low', 'Medium', 'Medium', 'Medium', 'Medium', 'Low',\n",
       "       'Low', 'Medium', 'Medium', 'Low', 'Medium', 'High', 'High', 'Low',\n",
       "       'Medium', 'High', 'Low', 'Medium', 'High', 'Low', 'Low', 'Medium',\n",
       "       'High', 'Medium', 'Low', 'Medium', 'Medium', 'Medium', 'High',\n",
       "       'Low', 'Medium', 'High', 'Medium', 'High', 'High', 'Medium',\n",
       "       'High', 'Medium', 'Low', 'Medium', 'High', 'Medium', 'Medium',\n",
       "       'High', 'Low', 'Low', 'Medium', 'Medium', 'Medium', 'Low',\n",
       "       'Medium', 'Low', 'Low', 'Low', 'Low', 'Medium', 'Low', 'Medium',\n",
       "       'Medium', 'Low', 'Medium', 'Medium', 'Medium', 'High', 'Medium',\n",
       "       'High', 'Medium', 'High', 'High', 'High', 'High', 'Low', 'High',\n",
       "       'Low', 'Low', 'Medium', 'High', 'Medium', 'Low', 'Low', 'Medium',\n",
       "       'High', 'High', 'Low', 'Low', 'Low', 'Medium', 'Low', 'High',\n",
       "       'Low', 'High', 'Medium', 'Medium', 'High', 'High', 'Low', 'Low',\n",
       "       'Medium', 'High', 'Medium', 'Low', 'Medium', 'Low', 'High',\n",
       "       'Medium', 'Medium', 'Medium', 'High', 'Medium', 'High', 'Medium',\n",
       "       'Medium', 'Medium', 'High', 'Medium', 'Low', 'Low', 'Medium',\n",
       "       'Low', 'Low', 'Medium', 'Low', 'High', 'High', 'Low', 'High',\n",
       "       'Low', 'High', 'High', 'High', 'Medium', 'Low', 'High', 'Low',\n",
       "       'Medium', 'High', 'Medium', 'Medium', 'High', 'Medium', 'Medium',\n",
       "       'Low', 'High', 'Low', 'High', 'Low', 'Medium', 'High', 'High',\n",
       "       'Low', 'Medium', 'Low', 'High', 'Medium', 'High', 'Low', 'Low',\n",
       "       'Medium', 'Medium', 'Medium', 'Low', 'High', 'Low', 'Low', 'Low',\n",
       "       'Medium', 'Low', 'Low', 'Low', 'High', 'Medium', 'Medium',\n",
       "       'Medium', 'High', 'High', 'Medium', 'High', 'Low', 'High', 'High',\n",
       "       'Low', 'Medium', 'Low', 'Low', 'Medium', 'High', 'Low', 'Low',\n",
       "       'Low', 'Medium', 'High', 'High', 'Low', 'Low', 'Medium'],\n",
       "      dtype=object)"
      ]
     },
     "execution_count": 42,
     "metadata": {},
     "output_type": "execute_result"
    }
   ],
   "source": [
    "#Inverse transform\n",
    "enc.inverse_transform(pred)"
   ]
  },
  {
   "cell_type": "code",
   "execution_count": 43,
   "metadata": {},
   "outputs": [
    {
     "name": "stderr",
     "output_type": "stream",
     "text": [
      "C:\\Users\\Lakshmipathi PS\\Anaconda3\\lib\\site-packages\\ipykernel_launcher.py:1: SettingWithCopyWarning: \n",
      "A value is trying to be set on a copy of a slice from a DataFrame.\n",
      "Try using .loc[row_indexer,col_indexer] = value instead\n",
      "\n",
      "See the caveats in the documentation: https://pandas.pydata.org/pandas-docs/stable/user_guide/indexing.html#returning-a-view-versus-a-copy\n",
      "  \"\"\"Entry point for launching an IPython kernel.\n"
     ]
    }
   ],
   "source": [
    "test['History'] = enc.inverse_transform(pred)"
   ]
  },
  {
   "cell_type": "code",
   "execution_count": 44,
   "metadata": {},
   "outputs": [
    {
     "data": {
      "text/html": [
       "<div>\n",
       "<style scoped>\n",
       "    .dataframe tbody tr th:only-of-type {\n",
       "        vertical-align: middle;\n",
       "    }\n",
       "\n",
       "    .dataframe tbody tr th {\n",
       "        vertical-align: top;\n",
       "    }\n",
       "\n",
       "    .dataframe thead th {\n",
       "        text-align: right;\n",
       "    }\n",
       "</style>\n",
       "<table border=\"1\" class=\"dataframe\">\n",
       "  <thead>\n",
       "    <tr style=\"text-align: right;\">\n",
       "      <th></th>\n",
       "      <th>Age</th>\n",
       "      <th>Gender</th>\n",
       "      <th>OwnHome</th>\n",
       "      <th>Married</th>\n",
       "      <th>Location</th>\n",
       "      <th>Salary</th>\n",
       "      <th>Children</th>\n",
       "      <th>History</th>\n",
       "      <th>Catalogs</th>\n",
       "      <th>AmountSpent</th>\n",
       "      <th>Cust_Id</th>\n",
       "    </tr>\n",
       "  </thead>\n",
       "  <tbody>\n",
       "    <tr>\n",
       "      <th>9</th>\n",
       "      <td>Old</td>\n",
       "      <td>Male</td>\n",
       "      <td>Own</td>\n",
       "      <td>Married</td>\n",
       "      <td>Far</td>\n",
       "      <td>80700</td>\n",
       "      <td>0</td>\n",
       "      <td>High</td>\n",
       "      <td>18</td>\n",
       "      <td>3034</td>\n",
       "      <td>475</td>\n",
       "    </tr>\n",
       "    <tr>\n",
       "      <th>10</th>\n",
       "      <td>Young</td>\n",
       "      <td>Male</td>\n",
       "      <td>Rent</td>\n",
       "      <td>Married</td>\n",
       "      <td>Close</td>\n",
       "      <td>43700</td>\n",
       "      <td>1</td>\n",
       "      <td>Medium</td>\n",
       "      <td>12</td>\n",
       "      <td>927</td>\n",
       "      <td>157</td>\n",
       "    </tr>\n",
       "    <tr>\n",
       "      <th>15</th>\n",
       "      <td>Middle</td>\n",
       "      <td>Female</td>\n",
       "      <td>Own</td>\n",
       "      <td>Married</td>\n",
       "      <td>Far</td>\n",
       "      <td>83100</td>\n",
       "      <td>1</td>\n",
       "      <td>High</td>\n",
       "      <td>12</td>\n",
       "      <td>2766</td>\n",
       "      <td>808</td>\n",
       "    </tr>\n",
       "    <tr>\n",
       "      <th>24</th>\n",
       "      <td>Young</td>\n",
       "      <td>Female</td>\n",
       "      <td>Rent</td>\n",
       "      <td>Married</td>\n",
       "      <td>Close</td>\n",
       "      <td>41700</td>\n",
       "      <td>1</td>\n",
       "      <td>Medium</td>\n",
       "      <td>6</td>\n",
       "      <td>521</td>\n",
       "      <td>661</td>\n",
       "    </tr>\n",
       "    <tr>\n",
       "      <th>26</th>\n",
       "      <td>Middle</td>\n",
       "      <td>Male</td>\n",
       "      <td>Own</td>\n",
       "      <td>Single</td>\n",
       "      <td>Close</td>\n",
       "      <td>62800</td>\n",
       "      <td>3</td>\n",
       "      <td>Medium</td>\n",
       "      <td>6</td>\n",
       "      <td>707</td>\n",
       "      <td>973</td>\n",
       "    </tr>\n",
       "  </tbody>\n",
       "</table>\n",
       "</div>"
      ],
      "text/plain": [
       "       Age  Gender OwnHome  Married Location  Salary  Children History  \\\n",
       "9      Old    Male     Own  Married      Far   80700         0    High   \n",
       "10   Young    Male    Rent  Married    Close   43700         1  Medium   \n",
       "15  Middle  Female     Own  Married      Far   83100         1    High   \n",
       "24   Young  Female    Rent  Married    Close   41700         1  Medium   \n",
       "26  Middle    Male     Own   Single    Close   62800         3  Medium   \n",
       "\n",
       "    Catalogs  AmountSpent  Cust_Id  \n",
       "9         18         3034      475  \n",
       "10        12          927      157  \n",
       "15        12         2766      808  \n",
       "24         6          521      661  \n",
       "26         6          707      973  "
      ]
     },
     "execution_count": 44,
     "metadata": {},
     "output_type": "execute_result"
    }
   ],
   "source": [
    "test.head()"
   ]
  },
  {
   "cell_type": "code",
   "execution_count": 45,
   "metadata": {},
   "outputs": [
    {
     "data": {
      "text/plain": [
       "Age            0\n",
       "Gender         0\n",
       "OwnHome        0\n",
       "Married        0\n",
       "Location       0\n",
       "Salary         0\n",
       "Children       0\n",
       "History        0\n",
       "Catalogs       0\n",
       "AmountSpent    0\n",
       "Cust_Id        0\n",
       "dtype: int64"
      ]
     },
     "execution_count": 45,
     "metadata": {},
     "output_type": "execute_result"
    }
   ],
   "source": [
    "test.isnull().sum()"
   ]
  },
  {
   "cell_type": "markdown",
   "metadata": {},
   "source": [
    "NOw, all are nulls are filled with values"
   ]
  },
  {
   "cell_type": "markdown",
   "metadata": {},
   "source": [
    "# now merging both train and test to get complete data"
   ]
  },
  {
   "cell_type": "code",
   "execution_count": 46,
   "metadata": {},
   "outputs": [],
   "source": [
    "data = pd.merge(train, test, how = 'outer')"
   ]
  },
  {
   "cell_type": "code",
   "execution_count": 47,
   "metadata": {},
   "outputs": [
    {
     "data": {
      "text/plain": [
       "(1000, 11)"
      ]
     },
     "execution_count": 47,
     "metadata": {},
     "output_type": "execute_result"
    }
   ],
   "source": [
    "data.shape"
   ]
  },
  {
   "cell_type": "code",
   "execution_count": 52,
   "metadata": {},
   "outputs": [
    {
     "data": {
      "text/plain": [
       "Age            0\n",
       "Gender         0\n",
       "OwnHome        0\n",
       "Married        0\n",
       "Location       0\n",
       "Salary         0\n",
       "Children       0\n",
       "History        0\n",
       "Catalogs       0\n",
       "AmountSpent    0\n",
       "Cust_Id        0\n",
       "dtype: int64"
      ]
     },
     "execution_count": 52,
     "metadata": {},
     "output_type": "execute_result"
    }
   ],
   "source": [
    "data.isnull().sum()"
   ]
  },
  {
   "cell_type": "code",
   "execution_count": 49,
   "metadata": {},
   "outputs": [
    {
     "data": {
      "text/plain": [
       "History\n",
       "High      2186.137255\n",
       "Low        357.086957\n",
       "Medium     950.400943\n",
       "Name: AmountSpent, dtype: float64"
      ]
     },
     "execution_count": 49,
     "metadata": {},
     "output_type": "execute_result"
    }
   ],
   "source": [
    "dm.groupby('History')['AmountSpent'].mean()"
   ]
  },
  {
   "cell_type": "code",
   "execution_count": 50,
   "metadata": {},
   "outputs": [
    {
     "data": {
      "text/plain": [
       "History\n",
       "High      2137.189112\n",
       "Low        389.048485\n",
       "Medium    1066.993769\n",
       "Name: AmountSpent, dtype: float64"
      ]
     },
     "execution_count": 50,
     "metadata": {},
     "output_type": "execute_result"
    }
   ],
   "source": [
    "data.groupby('History')['AmountSpent'].mean()"
   ]
  },
  {
   "cell_type": "markdown",
   "metadata": {},
   "source": [
    "##Look how close they are and doesnt seem to be high drastic change"
   ]
  },
  {
   "cell_type": "markdown",
   "metadata": {},
   "source": [
    "# Outliers##"
   ]
  },
  {
   "cell_type": "code",
   "execution_count": 51,
   "metadata": {},
   "outputs": [
    {
     "data": {
      "image/png": "[encoded data removed]",
      "text/plain": [
       "<Figure size 432x288 with 1 Axes>"
      ]
     },
     "metadata": {},
     "output_type": "display_data"
    }
   ],
   "source": [
    "b = plt.boxplot(data['AmountSpent'])"
   ]
  },
  {
   "cell_type": "code",
   "execution_count": 53,
   "metadata": {},
   "outputs": [
    {
     "data": {
      "text/plain": [
       "{'whiskers': [<matplotlib.lines.Line2D at 0x192f9048e48>,\n",
       "  <matplotlib.lines.Line2D at 0x192f905b278>],\n",
       " 'caps': [<matplotlib.lines.Line2D at 0x192f905b630>,\n",
       "  <matplotlib.lines.Line2D at 0x192f905b9e8>],\n",
       " 'boxes': [<matplotlib.lines.Line2D at 0x192f9048b00>],\n",
       " 'medians': [<matplotlib.lines.Line2D at 0x192f905bda0>],\n",
       " 'fliers': [<matplotlib.lines.Line2D at 0x192f9065198>],\n",
       " 'means': []}"
      ]
     },
     "execution_count": 53,
     "metadata": {},
     "output_type": "execute_result"
    }
   ],
   "source": [
    "b"
   ]
  },
  {
   "cell_type": "code",
   "execution_count": 54,
   "metadata": {},
   "outputs": [
    {
     "data": {
      "text/plain": [
       "[<matplotlib.lines.Line2D at 0x192f9065198>]"
      ]
     },
     "execution_count": 54,
     "metadata": {},
     "output_type": "execute_result"
    }
   ],
   "source": [
    "b['fliers']"
   ]
  },
  {
   "cell_type": "code",
   "execution_count": 57,
   "metadata": {},
   "outputs": [
    {
     "data": {
      "text/plain": [
       "[array([5564, 3655, 3604, 4182, 4558, 3688, 3596, 4279, 4894, 3491, 5830,\n",
       "        3632, 3671, 5151, 5878, 5209, 4109, 3995, 3780, 6217, 3785, 5503,\n",
       "        3505, 3916, 3941, 4984, 3537], dtype=int64)]"
      ]
     },
     "execution_count": 57,
     "metadata": {},
     "output_type": "execute_result"
    }
   ],
   "source": [
    "##Will use list comprehension\n",
    "out = [i.get_ydata() for i in b['fliers']]\n",
    "out"
   ]
  },
  {
   "cell_type": "code",
   "execution_count": 58,
   "metadata": {},
   "outputs": [
    {
     "data": {
      "text/plain": [
       "array([5564, 3655, 3604, 4182, 4558, 3688, 3596, 4279, 4894, 3491, 5830,\n",
       "       3632, 3671, 5151, 5878, 5209, 4109, 3995, 3780, 6217, 3785, 5503,\n",
       "       3505, 3916, 3941, 4984, 3537], dtype=int64)"
      ]
     },
     "execution_count": 58,
     "metadata": {},
     "output_type": "execute_result"
    }
   ],
   "source": [
    "out[0]"
   ]
  },
  {
   "cell_type": "code",
   "execution_count": 60,
   "metadata": {},
   "outputs": [
    {
     "data": {
      "text/plain": [
       "count        27.000000\n",
       "mean     107688.888889\n",
       "std       18513.203881\n",
       "min       68000.000000\n",
       "25%       96400.000000\n",
       "50%      110000.000000\n",
       "75%      122850.000000\n",
       "max      140000.000000\n",
       "Name: Salary, dtype: float64"
      ]
     },
     "execution_count": 60,
     "metadata": {},
     "output_type": "execute_result"
    }
   ],
   "source": [
    "dm[dm['AmountSpent'].isin(out[0])]['Salary'].describe()"
   ]
  },
  {
   "cell_type": "markdown",
   "metadata": {},
   "source": [
    "# Importing other data set"
   ]
  },
  {
   "cell_type": "code",
   "execution_count": 80,
   "metadata": {},
   "outputs": [],
   "source": [
    "bh = pd.read_csv('bh_sample.csv')"
   ]
  },
  {
   "cell_type": "code",
   "execution_count": 81,
   "metadata": {},
   "outputs": [
    {
     "data": {
      "text/html": [
       "<div>\n",
       "<style scoped>\n",
       "    .dataframe tbody tr th:only-of-type {\n",
       "        vertical-align: middle;\n",
       "    }\n",
       "\n",
       "    .dataframe tbody tr th {\n",
       "        vertical-align: top;\n",
       "    }\n",
       "\n",
       "    .dataframe thead th {\n",
       "        text-align: right;\n",
       "    }\n",
       "</style>\n",
       "<table border=\"1\" class=\"dataframe\">\n",
       "  <thead>\n",
       "    <tr style=\"text-align: right;\">\n",
       "      <th></th>\n",
       "      <th>TARGET</th>\n",
       "      <th>cus_employername</th>\n",
       "      <th>profit_loss_after_cost</th>\n",
       "      <th>agrgrp_writeoff</th>\n",
       "    </tr>\n",
       "  </thead>\n",
       "  <tbody>\n",
       "    <tr>\n",
       "      <th>0</th>\n",
       "      <td>1.0</td>\n",
       "      <td>British Gas</td>\n",
       "      <td>350.25</td>\n",
       "      <td>NaN</td>\n",
       "    </tr>\n",
       "    <tr>\n",
       "      <th>1</th>\n",
       "      <td>1.0</td>\n",
       "      <td>Guys And St Thomas Nhs Trust</td>\n",
       "      <td>904.00</td>\n",
       "      <td>NaN</td>\n",
       "    </tr>\n",
       "    <tr>\n",
       "      <th>2</th>\n",
       "      <td>0.0</td>\n",
       "      <td>Ejasonics</td>\n",
       "      <td>-186.00</td>\n",
       "      <td>1.0</td>\n",
       "    </tr>\n",
       "    <tr>\n",
       "      <th>3</th>\n",
       "      <td>0.0</td>\n",
       "      <td>Derby Unitex</td>\n",
       "      <td>-161.00</td>\n",
       "      <td>1.0</td>\n",
       "    </tr>\n",
       "    <tr>\n",
       "      <th>4</th>\n",
       "      <td>0.0</td>\n",
       "      <td>Nhs</td>\n",
       "      <td>-13.50</td>\n",
       "      <td>NaN</td>\n",
       "    </tr>\n",
       "  </tbody>\n",
       "</table>\n",
       "</div>"
      ],
      "text/plain": [
       "   TARGET              cus_employername  profit_loss_after_cost  \\\n",
       "0     1.0                   British Gas                  350.25   \n",
       "1     1.0  Guys And St Thomas Nhs Trust                  904.00   \n",
       "2     0.0                     Ejasonics                 -186.00   \n",
       "3     0.0                  Derby Unitex                 -161.00   \n",
       "4     0.0                           Nhs                  -13.50   \n",
       "\n",
       "   agrgrp_writeoff  \n",
       "0              NaN  \n",
       "1              NaN  \n",
       "2              1.0  \n",
       "3              1.0  \n",
       "4              NaN  "
      ]
     },
     "execution_count": 81,
     "metadata": {},
     "output_type": "execute_result"
    }
   ],
   "source": [
    "bh.head()"
   ]
  },
  {
   "cell_type": "code",
   "execution_count": 82,
   "metadata": {},
   "outputs": [
    {
     "data": {
      "text/plain": [
       "(29105, 4)"
      ]
     },
     "execution_count": 82,
     "metadata": {},
     "output_type": "execute_result"
    }
   ],
   "source": [
    "bh.shape"
   ]
  },
  {
   "cell_type": "code",
   "execution_count": 83,
   "metadata": {},
   "outputs": [],
   "source": [
    "report= dataQuality(bh)"
   ]
  },
  {
   "cell_type": "code",
   "execution_count": 84,
   "metadata": {},
   "outputs": [
    {
     "data": {
      "text/html": [
       "<div>\n",
       "<style scoped>\n",
       "    .dataframe tbody tr th:only-of-type {\n",
       "        vertical-align: middle;\n",
       "    }\n",
       "\n",
       "    .dataframe tbody tr th {\n",
       "        vertical-align: top;\n",
       "    }\n",
       "\n",
       "    .dataframe thead th {\n",
       "        text-align: right;\n",
       "    }\n",
       "</style>\n",
       "<table border=\"1\" class=\"dataframe\">\n",
       "  <thead>\n",
       "    <tr style=\"text-align: right;\">\n",
       "      <th></th>\n",
       "      <th>Count</th>\n",
       "      <th>Unique</th>\n",
       "      <th>Miss_per</th>\n",
       "      <th>Min</th>\n",
       "      <th>Max</th>\n",
       "      <th>Mean</th>\n",
       "      <th>Median</th>\n",
       "      <th>Std</th>\n",
       "      <th>Var</th>\n",
       "      <th>Q1</th>\n",
       "      <th>Q3</th>\n",
       "      <th>q99</th>\n",
       "    </tr>\n",
       "  </thead>\n",
       "  <tbody>\n",
       "    <tr>\n",
       "      <th>TARGET</th>\n",
       "      <td>22888.0</td>\n",
       "      <td>3.0</td>\n",
       "      <td>0.213606</td>\n",
       "      <td>0.00</td>\n",
       "      <td>1.0</td>\n",
       "      <td>0.451459</td>\n",
       "      <td>0.0</td>\n",
       "      <td>0.497649</td>\n",
       "      <td>0.247655</td>\n",
       "      <td>0.0</td>\n",
       "      <td>1.00</td>\n",
       "      <td>1.00</td>\n",
       "    </tr>\n",
       "    <tr>\n",
       "      <th>profit_loss_after_cost</th>\n",
       "      <td>29105.0</td>\n",
       "      <td>11709.0</td>\n",
       "      <td>0.000000</td>\n",
       "      <td>-2448.25</td>\n",
       "      <td>2284.9</td>\n",
       "      <td>90.058790</td>\n",
       "      <td>23.0</td>\n",
       "      <td>297.258559</td>\n",
       "      <td>88362.650789</td>\n",
       "      <td>-136.0</td>\n",
       "      <td>201.64</td>\n",
       "      <td>1114.48</td>\n",
       "    </tr>\n",
       "    <tr>\n",
       "      <th>agrgrp_writeoff</th>\n",
       "      <td>11045.0</td>\n",
       "      <td>3.0</td>\n",
       "      <td>0.620512</td>\n",
       "      <td>1.00</td>\n",
       "      <td>2.0</td>\n",
       "      <td>1.000905</td>\n",
       "      <td>1.0</td>\n",
       "      <td>0.030077</td>\n",
       "      <td>0.000905</td>\n",
       "      <td>1.0</td>\n",
       "      <td>1.00</td>\n",
       "      <td>1.00</td>\n",
       "    </tr>\n",
       "  </tbody>\n",
       "</table>\n",
       "</div>"
      ],
      "text/plain": [
       "                          Count   Unique  Miss_per      Min     Max  \\\n",
       "TARGET                  22888.0      3.0  0.213606     0.00     1.0   \n",
       "profit_loss_after_cost  29105.0  11709.0  0.000000 -2448.25  2284.9   \n",
       "agrgrp_writeoff         11045.0      3.0  0.620512     1.00     2.0   \n",
       "\n",
       "                             Mean  Median         Std           Var     Q1  \\\n",
       "TARGET                   0.451459     0.0    0.497649      0.247655    0.0   \n",
       "profit_loss_after_cost  90.058790    23.0  297.258559  88362.650789 -136.0   \n",
       "agrgrp_writeoff          1.000905     1.0    0.030077      0.000905    1.0   \n",
       "\n",
       "                            Q3      q99  \n",
       "TARGET                    1.00     1.00  \n",
       "profit_loss_after_cost  201.64  1114.48  \n",
       "agrgrp_writeoff           1.00     1.00  "
      ]
     },
     "execution_count": 84,
     "metadata": {},
     "output_type": "execute_result"
    }
   ],
   "source": [
    "report['numeric']"
   ]
  },
  {
   "cell_type": "code",
   "execution_count": 85,
   "metadata": {},
   "outputs": [
    {
     "data": {
      "text/html": [
       "<div>\n",
       "<style scoped>\n",
       "    .dataframe tbody tr th:only-of-type {\n",
       "        vertical-align: middle;\n",
       "    }\n",
       "\n",
       "    .dataframe tbody tr th {\n",
       "        vertical-align: top;\n",
       "    }\n",
       "\n",
       "    .dataframe thead th {\n",
       "        text-align: right;\n",
       "    }\n",
       "</style>\n",
       "<table border=\"1\" class=\"dataframe\">\n",
       "  <thead>\n",
       "    <tr style=\"text-align: right;\">\n",
       "      <th></th>\n",
       "      <th>Count</th>\n",
       "      <th>Unique</th>\n",
       "      <th>Miss_per</th>\n",
       "      <th>Freq_Level</th>\n",
       "      <th>freq_cat_Per</th>\n",
       "    </tr>\n",
       "  </thead>\n",
       "  <tbody>\n",
       "    <tr>\n",
       "      <th>cus_employername</th>\n",
       "      <td>29102</td>\n",
       "      <td>16193</td>\n",
       "      <td>0.000103075</td>\n",
       "      <td>Tesco</td>\n",
       "      <td>0.0191376</td>\n",
       "    </tr>\n",
       "  </tbody>\n",
       "</table>\n",
       "</div>"
      ],
      "text/plain": [
       "                  Count Unique     Miss_per Freq_Level freq_cat_Per\n",
       "cus_employername  29102  16193  0.000103075      Tesco    0.0191376"
      ]
     },
     "execution_count": 85,
     "metadata": {},
     "output_type": "execute_result"
    }
   ],
   "source": [
    "report['categorical']"
   ]
  },
  {
   "cell_type": "code",
   "execution_count": 86,
   "metadata": {},
   "outputs": [
    {
     "data": {
      "text/plain": [
       "TARGET                    0.213606\n",
       "cus_employername          0.000103\n",
       "profit_loss_after_cost    0.000000\n",
       "agrgrp_writeoff           0.620512\n",
       "dtype: float64"
      ]
     },
     "execution_count": 86,
     "metadata": {},
     "output_type": "execute_result"
    }
   ],
   "source": [
    "bh.isnull().mean()"
   ]
  },
  {
   "cell_type": "code",
   "execution_count": 87,
   "metadata": {},
   "outputs": [
    {
     "data": {
      "text/plain": [
       "TARGET                     6217\n",
       "cus_employername              3\n",
       "profit_loss_after_cost        0\n",
       "agrgrp_writeoff           18060\n",
       "dtype: int64"
      ]
     },
     "execution_count": 87,
     "metadata": {},
     "output_type": "execute_result"
    }
   ],
   "source": [
    "bh.isnull().sum()"
   ]
  },
  {
   "cell_type": "code",
   "execution_count": 88,
   "metadata": {},
   "outputs": [
    {
     "data": {
      "text/html": [
       "<div>\n",
       "<style scoped>\n",
       "    .dataframe tbody tr th:only-of-type {\n",
       "        vertical-align: middle;\n",
       "    }\n",
       "\n",
       "    .dataframe tbody tr th {\n",
       "        vertical-align: top;\n",
       "    }\n",
       "\n",
       "    .dataframe thead th {\n",
       "        text-align: right;\n",
       "    }\n",
       "</style>\n",
       "<table border=\"1\" class=\"dataframe\">\n",
       "  <thead>\n",
       "    <tr style=\"text-align: right;\">\n",
       "      <th></th>\n",
       "      <th>TARGET</th>\n",
       "      <th>cus_employername</th>\n",
       "      <th>profit_loss_after_cost</th>\n",
       "    </tr>\n",
       "  </thead>\n",
       "  <tbody>\n",
       "    <tr>\n",
       "      <th>0</th>\n",
       "      <td>1.0</td>\n",
       "      <td>British Gas</td>\n",
       "      <td>350.25</td>\n",
       "    </tr>\n",
       "    <tr>\n",
       "      <th>1</th>\n",
       "      <td>1.0</td>\n",
       "      <td>Guys And St Thomas Nhs Trust</td>\n",
       "      <td>904.00</td>\n",
       "    </tr>\n",
       "    <tr>\n",
       "      <th>2</th>\n",
       "      <td>0.0</td>\n",
       "      <td>Ejasonics</td>\n",
       "      <td>-186.00</td>\n",
       "    </tr>\n",
       "    <tr>\n",
       "      <th>3</th>\n",
       "      <td>0.0</td>\n",
       "      <td>Derby Unitex</td>\n",
       "      <td>-161.00</td>\n",
       "    </tr>\n",
       "    <tr>\n",
       "      <th>4</th>\n",
       "      <td>0.0</td>\n",
       "      <td>Nhs</td>\n",
       "      <td>-13.50</td>\n",
       "    </tr>\n",
       "  </tbody>\n",
       "</table>\n",
       "</div>"
      ],
      "text/plain": [
       "   TARGET              cus_employername  profit_loss_after_cost\n",
       "0     1.0                   British Gas                  350.25\n",
       "1     1.0  Guys And St Thomas Nhs Trust                  904.00\n",
       "2     0.0                     Ejasonics                 -186.00\n",
       "3     0.0                  Derby Unitex                 -161.00\n",
       "4     0.0                           Nhs                  -13.50"
      ]
     },
     "execution_count": 88,
     "metadata": {},
     "output_type": "execute_result"
    }
   ],
   "source": [
    "#All Columns with more than 30% missing values are removed. So, below is the code\n",
    "bh = bh.loc[:,bh.isnull().mean()<=0.3]\n",
    "bh.head()"
   ]
  },
  {
   "cell_type": "code",
   "execution_count": 89,
   "metadata": {},
   "outputs": [],
   "source": [
    "bh = bh.dropna()"
   ]
  },
  {
   "cell_type": "code",
   "execution_count": 90,
   "metadata": {},
   "outputs": [
    {
     "data": {
      "text/plain": [
       "(22887, 3)"
      ]
     },
     "execution_count": 90,
     "metadata": {},
     "output_type": "execute_result"
    }
   ],
   "source": [
    "bh.shape"
   ]
  },
  {
   "cell_type": "markdown",
   "metadata": {},
   "source": [
    "#Converting all postiv values to 1 and all negative values to zero"
   ]
  },
  {
   "cell_type": "code",
   "execution_count": 91,
   "metadata": {},
   "outputs": [],
   "source": [
    "bh['profit_loss_after_cost'] = np.where(bh['profit_loss_after_cost'] <=0, 0, 1)"
   ]
  },
  {
   "cell_type": "code",
   "execution_count": 92,
   "metadata": {},
   "outputs": [
    {
     "data": {
      "text/html": [
       "<div>\n",
       "<style scoped>\n",
       "    .dataframe tbody tr th:only-of-type {\n",
       "        vertical-align: middle;\n",
       "    }\n",
       "\n",
       "    .dataframe tbody tr th {\n",
       "        vertical-align: top;\n",
       "    }\n",
       "\n",
       "    .dataframe thead th {\n",
       "        text-align: right;\n",
       "    }\n",
       "</style>\n",
       "<table border=\"1\" class=\"dataframe\">\n",
       "  <thead>\n",
       "    <tr style=\"text-align: right;\">\n",
       "      <th></th>\n",
       "      <th>TARGET</th>\n",
       "      <th>cus_employername</th>\n",
       "      <th>profit_loss_after_cost</th>\n",
       "    </tr>\n",
       "  </thead>\n",
       "  <tbody>\n",
       "    <tr>\n",
       "      <th>0</th>\n",
       "      <td>1.0</td>\n",
       "      <td>British Gas</td>\n",
       "      <td>1</td>\n",
       "    </tr>\n",
       "    <tr>\n",
       "      <th>1</th>\n",
       "      <td>1.0</td>\n",
       "      <td>Guys And St Thomas Nhs Trust</td>\n",
       "      <td>1</td>\n",
       "    </tr>\n",
       "    <tr>\n",
       "      <th>2</th>\n",
       "      <td>0.0</td>\n",
       "      <td>Ejasonics</td>\n",
       "      <td>0</td>\n",
       "    </tr>\n",
       "    <tr>\n",
       "      <th>3</th>\n",
       "      <td>0.0</td>\n",
       "      <td>Derby Unitex</td>\n",
       "      <td>0</td>\n",
       "    </tr>\n",
       "    <tr>\n",
       "      <th>4</th>\n",
       "      <td>0.0</td>\n",
       "      <td>Nhs</td>\n",
       "      <td>0</td>\n",
       "    </tr>\n",
       "  </tbody>\n",
       "</table>\n",
       "</div>"
      ],
      "text/plain": [
       "   TARGET              cus_employername  profit_loss_after_cost\n",
       "0     1.0                   British Gas                       1\n",
       "1     1.0  Guys And St Thomas Nhs Trust                       1\n",
       "2     0.0                     Ejasonics                       0\n",
       "3     0.0                  Derby Unitex                       0\n",
       "4     0.0                           Nhs                       0"
      ]
     },
     "execution_count": 92,
     "metadata": {},
     "output_type": "execute_result"
    }
   ],
   "source": [
    "bh.head()"
   ]
  },
  {
   "cell_type": "code",
   "execution_count": 93,
   "metadata": {},
   "outputs": [
    {
     "data": {
      "text/plain": [
       "0    12554\n",
       "1    10333\n",
       "Name: profit_loss_after_cost, dtype: int64"
      ]
     },
     "execution_count": 93,
     "metadata": {},
     "output_type": "execute_result"
    }
   ],
   "source": [
    "bh['profit_loss_after_cost'].value_counts()"
   ]
  },
  {
   "cell_type": "code",
   "execution_count": 95,
   "metadata": {},
   "outputs": [
    {
     "data": {
      "text/plain": [
       "13282"
      ]
     },
     "execution_count": 95,
     "metadata": {},
     "output_type": "execute_result"
    }
   ],
   "source": [
    "len(bh['cus_employername'].unique())"
   ]
  },
  {
   "cell_type": "markdown",
   "metadata": {},
   "source": [
    "Variance will be large - if we add names since 13K uniques are there\n",
    "data will become sparse - model becomes complicated with so many dummies"
   ]
  },
  {
   "cell_type": "code",
   "execution_count": 96,
   "metadata": {},
   "outputs": [
    {
     "data": {
      "text/plain": [
       "(22887, 13282)"
      ]
     },
     "execution_count": 96,
     "metadata": {},
     "output_type": "execute_result"
    }
   ],
   "source": [
    "X = pd.get_dummies(bh['cus_employername'])\n",
    "X.shape"
   ]
  },
  {
   "cell_type": "code",
   "execution_count": 98,
   "metadata": {},
   "outputs": [],
   "source": [
    "Y = bh['TARGET']"
   ]
  },
  {
   "cell_type": "code",
   "execution_count": 99,
   "metadata": {},
   "outputs": [
    {
     "data": {
      "text/plain": [
       "DecisionTreeClassifier(max_depth=4)"
      ]
     },
     "execution_count": 99,
     "metadata": {},
     "output_type": "execute_result"
    }
   ],
   "source": [
    "clf2 = DecisionTreeClassifier(max_depth = 4)\n",
    "clf2.fit(X,Y)"
   ]
  },
  {
   "cell_type": "code",
   "execution_count": 100,
   "metadata": {},
   "outputs": [],
   "source": [
    "bh['Group'] = clf2.apply(X)"
   ]
  },
  {
   "cell_type": "code",
   "execution_count": 101,
   "metadata": {},
   "outputs": [
    {
     "data": {
      "text/html": [
       "<div>\n",
       "<style scoped>\n",
       "    .dataframe tbody tr th:only-of-type {\n",
       "        vertical-align: middle;\n",
       "    }\n",
       "\n",
       "    .dataframe tbody tr th {\n",
       "        vertical-align: top;\n",
       "    }\n",
       "\n",
       "    .dataframe thead th {\n",
       "        text-align: right;\n",
       "    }\n",
       "</style>\n",
       "<table border=\"1\" class=\"dataframe\">\n",
       "  <thead>\n",
       "    <tr style=\"text-align: right;\">\n",
       "      <th></th>\n",
       "      <th>TARGET</th>\n",
       "      <th>cus_employername</th>\n",
       "      <th>profit_loss_after_cost</th>\n",
       "      <th>Group</th>\n",
       "    </tr>\n",
       "  </thead>\n",
       "  <tbody>\n",
       "    <tr>\n",
       "      <th>0</th>\n",
       "      <td>1.0</td>\n",
       "      <td>British Gas</td>\n",
       "      <td>1</td>\n",
       "      <td>4</td>\n",
       "    </tr>\n",
       "    <tr>\n",
       "      <th>1</th>\n",
       "      <td>1.0</td>\n",
       "      <td>Guys And St Thomas Nhs Trust</td>\n",
       "      <td>1</td>\n",
       "      <td>4</td>\n",
       "    </tr>\n",
       "    <tr>\n",
       "      <th>2</th>\n",
       "      <td>0.0</td>\n",
       "      <td>Ejasonics</td>\n",
       "      <td>0</td>\n",
       "      <td>4</td>\n",
       "    </tr>\n",
       "    <tr>\n",
       "      <th>3</th>\n",
       "      <td>0.0</td>\n",
       "      <td>Derby Unitex</td>\n",
       "      <td>0</td>\n",
       "      <td>4</td>\n",
       "    </tr>\n",
       "    <tr>\n",
       "      <th>4</th>\n",
       "      <td>0.0</td>\n",
       "      <td>Nhs</td>\n",
       "      <td>0</td>\n",
       "      <td>4</td>\n",
       "    </tr>\n",
       "  </tbody>\n",
       "</table>\n",
       "</div>"
      ],
      "text/plain": [
       "   TARGET              cus_employername  profit_loss_after_cost  Group\n",
       "0     1.0                   British Gas                       1      4\n",
       "1     1.0  Guys And St Thomas Nhs Trust                       1      4\n",
       "2     0.0                     Ejasonics                       0      4\n",
       "3     0.0                  Derby Unitex                       0      4\n",
       "4     0.0                           Nhs                       0      4"
      ]
     },
     "execution_count": 101,
     "metadata": {},
     "output_type": "execute_result"
    }
   ],
   "source": [
    "bh.head()"
   ]
  },
  {
   "cell_type": "code",
   "execution_count": 102,
   "metadata": {},
   "outputs": [
    {
     "data": {
      "text/plain": [
       "array([4, 7, 8, 6, 5], dtype=int64)"
      ]
     },
     "execution_count": 102,
     "metadata": {},
     "output_type": "execute_result"
    }
   ],
   "source": [
    "bh['Group'].unique()"
   ]
  },
  {
   "cell_type": "markdown",
   "metadata": {},
   "source": [
    "##Now can drop these names column - and use these 5 group names and not loosing any information\n",
    "#now this is the reduced number of levels"
   ]
  },
  {
   "cell_type": "code",
   "execution_count": 103,
   "metadata": {},
   "outputs": [],
   "source": [
    "bh = bh.drop(['cus_employername'], axis = 1)"
   ]
  },
  {
   "cell_type": "code",
   "execution_count": 104,
   "metadata": {},
   "outputs": [
    {
     "data": {
      "text/html": [
       "<div>\n",
       "<style scoped>\n",
       "    .dataframe tbody tr th:only-of-type {\n",
       "        vertical-align: middle;\n",
       "    }\n",
       "\n",
       "    .dataframe tbody tr th {\n",
       "        vertical-align: top;\n",
       "    }\n",
       "\n",
       "    .dataframe thead th {\n",
       "        text-align: right;\n",
       "    }\n",
       "</style>\n",
       "<table border=\"1\" class=\"dataframe\">\n",
       "  <thead>\n",
       "    <tr style=\"text-align: right;\">\n",
       "      <th></th>\n",
       "      <th>TARGET</th>\n",
       "      <th>profit_loss_after_cost</th>\n",
       "      <th>Group</th>\n",
       "    </tr>\n",
       "  </thead>\n",
       "  <tbody>\n",
       "    <tr>\n",
       "      <th>0</th>\n",
       "      <td>1.0</td>\n",
       "      <td>1</td>\n",
       "      <td>4</td>\n",
       "    </tr>\n",
       "    <tr>\n",
       "      <th>1</th>\n",
       "      <td>1.0</td>\n",
       "      <td>1</td>\n",
       "      <td>4</td>\n",
       "    </tr>\n",
       "    <tr>\n",
       "      <th>2</th>\n",
       "      <td>0.0</td>\n",
       "      <td>0</td>\n",
       "      <td>4</td>\n",
       "    </tr>\n",
       "    <tr>\n",
       "      <th>3</th>\n",
       "      <td>0.0</td>\n",
       "      <td>0</td>\n",
       "      <td>4</td>\n",
       "    </tr>\n",
       "    <tr>\n",
       "      <th>4</th>\n",
       "      <td>0.0</td>\n",
       "      <td>0</td>\n",
       "      <td>4</td>\n",
       "    </tr>\n",
       "  </tbody>\n",
       "</table>\n",
       "</div>"
      ],
      "text/plain": [
       "   TARGET  profit_loss_after_cost  Group\n",
       "0     1.0                       1      4\n",
       "1     1.0                       1      4\n",
       "2     0.0                       0      4\n",
       "3     0.0                       0      4\n",
       "4     0.0                       0      4"
      ]
     },
     "execution_count": 104,
     "metadata": {},
     "output_type": "execute_result"
    }
   ],
   "source": [
    "bh.head()"
   ]
  },
  {
   "cell_type": "code",
   "execution_count": 105,
   "metadata": {},
   "outputs": [
    {
     "data": {
      "text/plain": [
       "(22887, 3)"
      ]
     },
     "execution_count": 105,
     "metadata": {},
     "output_type": "execute_result"
    }
   ],
   "source": [
    "bh.shape"
   ]
  },
  {
   "cell_type": "code",
   "execution_count": 107,
   "metadata": {},
   "outputs": [
    {
     "data": {
      "text/plain": [
       "TARGET                    float64\n",
       "profit_loss_after_cost      int32\n",
       "Group                       int64\n",
       "dtype: object"
      ]
     },
     "execution_count": 107,
     "metadata": {},
     "output_type": "execute_result"
    }
   ],
   "source": [
    "bh.dtypes"
   ]
  },
  {
   "cell_type": "code",
   "execution_count": 108,
   "metadata": {},
   "outputs": [],
   "source": [
    "bh['Group'] = bh['Group'].astype('O')"
   ]
  },
  {
   "cell_type": "code",
   "execution_count": 109,
   "metadata": {},
   "outputs": [
    {
     "data": {
      "text/html": [
       "<div>\n",
       "<style scoped>\n",
       "    .dataframe tbody tr th:only-of-type {\n",
       "        vertical-align: middle;\n",
       "    }\n",
       "\n",
       "    .dataframe tbody tr th {\n",
       "        vertical-align: top;\n",
       "    }\n",
       "\n",
       "    .dataframe thead th {\n",
       "        text-align: right;\n",
       "    }\n",
       "</style>\n",
       "<table border=\"1\" class=\"dataframe\">\n",
       "  <thead>\n",
       "    <tr style=\"text-align: right;\">\n",
       "      <th></th>\n",
       "      <th>TARGET</th>\n",
       "      <th>profit_loss_after_cost</th>\n",
       "      <th>Group_4</th>\n",
       "      <th>Group_5</th>\n",
       "      <th>Group_6</th>\n",
       "      <th>Group_7</th>\n",
       "      <th>Group_8</th>\n",
       "    </tr>\n",
       "  </thead>\n",
       "  <tbody>\n",
       "    <tr>\n",
       "      <th>0</th>\n",
       "      <td>1.0</td>\n",
       "      <td>1</td>\n",
       "      <td>1</td>\n",
       "      <td>0</td>\n",
       "      <td>0</td>\n",
       "      <td>0</td>\n",
       "      <td>0</td>\n",
       "    </tr>\n",
       "    <tr>\n",
       "      <th>1</th>\n",
       "      <td>1.0</td>\n",
       "      <td>1</td>\n",
       "      <td>1</td>\n",
       "      <td>0</td>\n",
       "      <td>0</td>\n",
       "      <td>0</td>\n",
       "      <td>0</td>\n",
       "    </tr>\n",
       "    <tr>\n",
       "      <th>2</th>\n",
       "      <td>0.0</td>\n",
       "      <td>0</td>\n",
       "      <td>1</td>\n",
       "      <td>0</td>\n",
       "      <td>0</td>\n",
       "      <td>0</td>\n",
       "      <td>0</td>\n",
       "    </tr>\n",
       "    <tr>\n",
       "      <th>3</th>\n",
       "      <td>0.0</td>\n",
       "      <td>0</td>\n",
       "      <td>1</td>\n",
       "      <td>0</td>\n",
       "      <td>0</td>\n",
       "      <td>0</td>\n",
       "      <td>0</td>\n",
       "    </tr>\n",
       "    <tr>\n",
       "      <th>4</th>\n",
       "      <td>0.0</td>\n",
       "      <td>0</td>\n",
       "      <td>1</td>\n",
       "      <td>0</td>\n",
       "      <td>0</td>\n",
       "      <td>0</td>\n",
       "      <td>0</td>\n",
       "    </tr>\n",
       "  </tbody>\n",
       "</table>\n",
       "</div>"
      ],
      "text/plain": [
       "   TARGET  profit_loss_after_cost  Group_4  Group_5  Group_6  Group_7  Group_8\n",
       "0     1.0                       1        1        0        0        0        0\n",
       "1     1.0                       1        1        0        0        0        0\n",
       "2     0.0                       0        1        0        0        0        0\n",
       "3     0.0                       0        1        0        0        0        0\n",
       "4     0.0                       0        1        0        0        0        0"
      ]
     },
     "execution_count": 109,
     "metadata": {},
     "output_type": "execute_result"
    }
   ],
   "source": [
    "bh = pd.get_dummies(bh)\n",
    "bh.head()"
   ]
  },
  {
   "cell_type": "raw",
   "metadata": {},
   "source": [
    "def bins(x):\n",
    "    if x <= 25000:\n",
    "        return 'Group1'\n",
    "    elif 25000<x<=50000:\n",
    "        return 'Group2'\n",
    "    elif 50000<x<=75000:\n",
    "        return 'Group3'\n",
    "    else:\n",
    "        return 'Group4'"
   ]
  },
  {
   "cell_type": "code",
   "execution_count": null,
   "metadata": {},
   "outputs": [],
   "source": []
  }
 ],
 "metadata": {
  "kernelspec": {
   "display_name": "Python 3",
   "language": "python",
   "name": "python3"
  },
  "language_info": {
   "codemirror_mode": {
    "name": "ipython",
    "version": 3
   },
   "file_extension": ".py",
   "mimetype": "text/x-python",
   "name": "python",
   "nbconvert_exporter": "python",
   "pygments_lexer": "ipython3",
   "version": "3.7.3"
  }
 },
 "nbformat": 4,
 "nbformat_minor": 4
}
